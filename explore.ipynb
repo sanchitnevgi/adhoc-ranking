{
 "cells": [
  {
   "cell_type": "code",
   "execution_count": 1,
   "metadata": {},
   "outputs": [],
   "source": [
    "import torch\n",
    "from transformers import LongformerConfig, LongformerModel, LongformerTokenizer"
   ]
  },
  {
   "cell_type": "code",
   "execution_count": 2,
   "metadata": {},
   "outputs": [],
   "source": [
    "config = LongformerConfig.from_pretrained(\"allenai/longformer-base-4096\")\n",
    "tokenizer = LongformerTokenizer.from_pretrained(\"allenai/longformer-base-4096\")\n",
    "model = LongformerModel.from_pretrained(\"allenai/longformer-base-4096\")"
   ]
  },
  {
   "cell_type": "code",
   "execution_count": 4,
   "metadata": {},
   "outputs": [
    {
     "data": {
      "text/plain": [
       "{'input_ids': [[0, 687, 2, 2, 133, 315, 532, 2], [0, 627, 2, 2, 970, 32, 171, 1200, 2]], 'attention_mask': [[1, 1, 1, 1, 1, 1, 1, 1], [1, 1, 1, 1, 1, 1, 1, 1, 1]]}"
      ]
     },
     "execution_count": 4,
     "metadata": {},
     "output_type": "execute_result"
    }
   ],
   "source": [
    "tokenizer.batch_encode_plus([(\"us\", \"The United States\"), (\"the\", \"There are many cases\")])"
   ]
  },
  {
   "cell_type": "code",
   "execution_count": 3,
   "metadata": {},
   "outputs": [
    {
     "name": "stdout",
     "output_type": "stream",
     "text": [
      "Tokenized size 1146\n",
      "Num of characters 5231\n"
     ]
    }
   ],
   "source": [
    "document = \"\"\"\n",
    "Apple on October 13, 2020 unveiled the newest high-end flagship iPhones, the iPhone 12 Pro and iPhone 12 Pro Max, which are being sold alongside the more affordably priced iPhone 12 and iPhone 12 mini.\n",
    "Apple this year heavily emphasized the \"Pro\" aspect of the new iPhone 12 Pro models, suggesting the more expensive iPhones \"push the boundaries of innovation\" for the people who \"want the absolute most out of their iPhones.\"\n",
    "Available in 6.1-inch and 6.7-inch size options, the two new Pro models feature full-screen Super Retina XDR displays that are edge-to-edge with the exception of the Face ID notch.\n",
    "The 6.1-inch iPhone 12 Pro has a resolution of 2532 x 1170 with 460 pixels per inch, while the 6.7-inch iPhone 12 Pro Max has a resolution of 2778 x 1284 and a 458 ppi. The displays offer HDR support with 1200 nits peak brightness, Wide Color, Haptic Touch, and True Tone, all features that have been introduced over the years.\n",
    "Protecting the displays is a new Ceramic Shield cover, which Apple says \"goes beyond glass\" and is tougher than any smartphone glass. It's infused with nano-ceramic crystals and offers 4x better drop performance.\n",
    "The iPhone 12 Pro and Pro Max have an entirely new look that's similar to the design of the iPad Pro with flat edges instead of the rounded edges used in prior models. There's a precision-milled matte glass back surrounded by a stainless steel band.\n",
    "Color options include graphite, silver, gold, and pacific blue, with the blue shade replacing the midnight green used last year. The iPhone 12 Pro and Pro Max offer IP68 water and dust resistance and can hold up to submersion in 6 meters of water for up to 30 minutes.\n",
    "The new iPhone 12 models are the first to feature 5G connectivity for faster downloads and uploads, better quality video streaming, improved gaming, and higher-definition 1080p FaceTime calls. To preserve battery life when using 5G, a Smart Data Mode reverts to an LTE connection when 5G speeds aren't necessary.\n",
    "5G coverage is available worldwide, but only iPhone 12 devices sold in the United States support mmWave 5G, which is the fastest 5G technology available. iPhone 12 models sold in other countries are limited to the slower but more widely available Sub-6GHz 5G connectivity. In the U.S., 5G speeds can be as high as 4Gbps, even in highly populated areas.\n",
    "Gigabit LTE is supported when 5G isn't available, as is WiFi 6 and Bluetooth 5.0. Like the iPhone 11 models, the iPhone 12 Pro models include a U1 Ultra Wideband chip for spatial awareness and interactivity with other devices that include the U1 feature such as the HomePod mini.\n",
    "There's a new A14 chip inside the iPhone 12 Pro models, and it is the first chip in the smartphone industry built on a 5-nanometer process for performance and efficiency improvements. Apple says the 6-core CPU and 4-core GPU in the A14 are 50 percent faster than the fastest competing smartphone chips. The A14 chip includes a 16-core Neural Engine that offers an 80 percent increase in performance for machine learning tasks.\n",
    "For the most part, the iPhone 12 Pro and iPhone 12 Pro Max offer identical specs, but the exception is the camera, where there are some notable differences. The iPhone 12 Pro is equipped with a new seven-element Wide camera with an f/1.6 aperture, which brings 27 percent improved low-light performance for photos and videos.\n",
    "There's also an Ultra Wide camera with a 120-degree field of view and a 52mm telephoto lens that offers 4x optical zoom.\n",
    "The iPhone 12 Pro Max also has a seven-element Wide camera with an f/1.6 aperture, but it has a 47 percent larger sensor for an 87 percent improvement in low light. It has the same Ultra Wide camera and a 65mm telephoto lens that enables 5x optical zoom.\n",
    "While the iPhone 12 Pro offers dual optical image stabilization, the iPhone 12 Pro Max supports sensor-shift optical image stabilization for the Wide lens that stabilizes the sensor instead of the lens itself. Sensor-shift stabilization has previously been limited to DSLRs, and it offers better than ever stabilization for photos and videos.\n",
    "For both models, A14 chip powers a new image signal processor and computational photography capabilities that weren't possible before. Night mode is now available for the front-facing TrueDepth camera and the Ultra Wide camera, and Deep Fusion is available for all cameras. A new Smart HDR 3 feature brings more true-to-life images.\n",
    "There's also support for ProRAW, a feature that combines Apple's image processing and computational photography with the versatility of the RAW file format, offering full control over color, detail, and dynamic range.\n",
    "As for video, the iPhone 12 Pro models support 4K 60fps video and HDR video recording with Dolby Vision at up to 60 frames per second, and better video stabilization. A Night mode time-lapse video option allows for impressive night time videos when a tripod is used.\n",
    "The iPhone 12 Pro and Pro Max are equipped with a LiDAR Scanner that measures light distance and pixel depth of a scene to map out the area around the iPhone. It allows for more realistic AR experiences and it improves autofocus by 6x in low-light scenes for improved accuracy. The LiDAR Scanner enables Night mode portraits.\n",
    "\"\"\"\n",
    "tokenized = tokenizer.tokenize(document)\n",
    "print(\"Tokenized size\", len(tokenized))\n",
    "print(\"Num of characters\", len(document))"
   ]
  },
  {
   "cell_type": "code",
   "execution_count": null,
   "metadata": {},
   "outputs": [],
   "source": [
    "sample = tokenizer.encode(document, return_tensors=\"pt\")\n",
    "sample.size()"
   ]
  },
  {
   "cell_type": "code",
   "execution_count": null,
   "metadata": {},
   "outputs": [],
   "source": [
    "# Forward pass, check the return\n",
    "attention_mask = torch.ones(sample.shape, dtype=torch.long)\n",
    "global_attention_mask = torch.zeros(sample.shape, dtype=torch.long)\n",
    "output = model(sample, attention_mask=attention_mask, global_attention_mask=global_attention_mask, return_dict=True)"
   ]
  },
  {
   "cell_type": "code",
   "execution_count": 13,
   "metadata": {},
   "outputs": [],
   "source": [
    "query = \"apple iphone 12\"\n",
    "small_document = \"Apple on October 13, 2020 unveiled the newest high-end flagship iPhones, the iPhone 12 Pro.\""
   ]
  },
  {
   "cell_type": "code",
   "execution_count": 25,
   "metadata": {},
   "outputs": [],
   "source": [
    "from transformers import BertTokenizer\n",
    "bert = BertTokenizer.from_pretrained(\"bert-base-uncased\")"
   ]
  },
  {
   "cell_type": "code",
   "execution_count": 35,
   "metadata": {},
   "outputs": [
    {
     "name": "stderr",
     "output_type": "stream",
     "text": [
      "Keyword arguments {'output_attentions': True} not recognized.\n",
      "Keyword arguments {'output_attentions': True} not recognized.\n"
     ]
    },
    {
     "data": {
      "text/plain": [
       "dict_keys(['input_ids', 'token_type_ids', 'attention_mask'])"
      ]
     },
     "execution_count": 35,
     "metadata": {},
     "output_type": "execute_result"
    }
   ],
   "source": [
    "inputs = tokenizer(query, document, return_token_type_ids=True, max_length=128, truncation=True)\n",
    "inputs.keys()"
   ]
  },
  {
   "cell_type": "code",
   "execution_count": 32,
   "metadata": {},
   "outputs": [
    {
     "data": {
      "text/plain": [
       "{'input_ids': [0, 27326, 1437, 28778, 1264, 316, 2, 2, 50118, 20770, 15, 779, 508, 6, 2760, 6431, 5, 8946, 239, 12, 1397, 8589, 14825, 6, 5, 2733, 316, 1698, 8, 2733, 316, 1698, 4471, 6, 61, 32, 145, 1088, 2863, 5, 55, 4960, 4735, 7663, 2733, 316, 8, 2733, 316, 7983, 4, 50118, 20770, 42, 76, 4008, 12843, 5, 22, 10653, 113, 6659, 9, 5, 92, 2733, 316, 1698, 3092, 6, 5542, 5, 55, 3214, 14825, 22, 41935, 5, 10156, 9, 4695, 113, 13, 5, 82, 54, 22, 32835, 5, 7833, 144, 66, 9, 49, 14825, 72, 50118, 47354, 11, 231, 4, 134, 12, 3796, 8, 231, 4, 406, 12, 3796, 1836, 1735, 6, 5, 80, 92, 1698, 3092, 1905, 455, 12, 9806, 1582, 9944, 1243, 1577, 10644, 2], 'token_type_ids': [0, 0, 0, 0, 0, 0, 0, 0, 0, 0, 0, 0, 0, 0, 0, 0, 0, 0, 0, 0, 0, 0, 0, 0, 0, 0, 0, 0, 0, 0, 0, 0, 0, 0, 0, 0, 0, 0, 0, 0, 0, 0, 0, 0, 0, 0, 0, 0, 0, 0, 0, 0, 0, 0, 0, 0, 0, 0, 0, 0, 0, 0, 0, 0, 0, 0, 0, 0, 0, 0, 0, 0, 0, 0, 0, 0, 0, 0, 0, 0, 0, 0, 0, 0, 0, 0, 0, 0, 0, 0, 0, 0, 0, 0, 0, 0, 0, 0, 0, 0, 0, 0, 0, 0, 0, 0, 0, 0, 0, 0, 0, 0, 0, 0, 0, 0, 0, 0, 0, 0, 0, 0, 0, 0, 0, 0, 0, 0], 'attention_mask': [1, 1, 1, 1, 1, 1, 1, 1, 1, 1, 1, 1, 1, 1, 1, 1, 1, 1, 1, 1, 1, 1, 1, 1, 1, 1, 1, 1, 1, 1, 1, 1, 1, 1, 1, 1, 1, 1, 1, 1, 1, 1, 1, 1, 1, 1, 1, 1, 1, 1, 1, 1, 1, 1, 1, 1, 1, 1, 1, 1, 1, 1, 1, 1, 1, 1, 1, 1, 1, 1, 1, 1, 1, 1, 1, 1, 1, 1, 1, 1, 1, 1, 1, 1, 1, 1, 1, 1, 1, 1, 1, 1, 1, 1, 1, 1, 1, 1, 1, 1, 1, 1, 1, 1, 1, 1, 1, 1, 1, 1, 1, 1, 1, 1, 1, 1, 1, 1, 1, 1, 1, 1, 1, 1, 1, 1, 1, 1]}"
      ]
     },
     "execution_count": 32,
     "metadata": {},
     "output_type": "execute_result"
    }
   ],
   "source": [
    "inputs"
   ]
  },
  {
   "cell_type": "code",
   "execution_count": 30,
   "metadata": {},
   "outputs": [
    {
     "data": {
      "text/plain": [
       "['<s>', '<pad>', '</s>', '<unk>', '.', 'Ġthe']"
      ]
     },
     "execution_count": 30,
     "metadata": {},
     "output_type": "execute_result"
    }
   ],
   "source": [
    "tokenizer.convert_ids_to_tokens([0, 1, 2, 3, 4, 5])"
   ]
  },
  {
   "cell_type": "code",
   "execution_count": 34,
   "metadata": {},
   "outputs": [
    {
     "data": {
      "text/plain": [
       "6"
      ]
     },
     "execution_count": 34,
     "metadata": {},
     "output_type": "execute_result"
    }
   ],
   "source": [
    "inputs[\"input_ids\"].index(2)"
   ]
  },
  {
   "cell_type": "code",
   "execution_count": 39,
   "metadata": {},
   "outputs": [
    {
     "data": {
      "text/plain": [
       "torch.Size([1, 128])"
      ]
     },
     "execution_count": 39,
     "metadata": {},
     "output_type": "execute_result"
    }
   ],
   "source": [
    "input_ids = [inputs[\"input_ids\"], inputs[\"input_ids\"]]\n",
    "\n",
    "mask = torch.tensor([id for ids in input_ids])\n",
    "mask.shape"
   ]
  },
  {
   "cell_type": "code",
   "execution_count": 40,
   "metadata": {},
   "outputs": [
    {
     "data": {
      "text/plain": [
       "tensor([0., 0., 0., 0., 0., 0., 0., 0., 0., 0., 0., 0., 0., 0., 0., 0., 0., 0., 0., 0., 0., 0., 0., 0.,\n",
       "        0., 0., 0., 0., 0., 0., 0., 0., 0., 0., 0., 0., 0., 0., 0., 0., 0., 0., 0., 0., 0., 0., 0., 0.,\n",
       "        0., 0., 0., 0., 0., 0., 0., 0., 0., 0., 0., 0., 0., 0., 0., 0., 0., 0., 0., 0., 0., 0., 0., 0.,\n",
       "        0., 0., 0., 0., 0., 0., 0., 0., 0., 0., 0., 0., 0., 0., 0., 0., 0., 0., 0., 0., 0., 0., 0., 0.,\n",
       "        0., 0., 0., 0., 0., 0., 0., 0., 0., 0., 0., 0., 0., 0., 0., 0., 0., 0., 0., 0., 0., 0., 0., 0.,\n",
       "        0., 0., 0., 0., 0., 0., 0., 0.])"
      ]
     },
     "execution_count": 40,
     "metadata": {},
     "output_type": "execute_result"
    }
   ],
   "source": [
    "masked = torch.zeros(len(inputs[\"input_ids\"]))\n",
    "masked"
   ]
  },
  {
   "cell_type": "code",
   "execution_count": 41,
   "metadata": {},
   "outputs": [
    {
     "data": {
      "text/plain": [
       "tensor([1., 1., 1., 1., 1., 1., 0., 0., 0., 0., 0., 0., 0., 0., 0., 0., 0., 0.,\n",
       "        0., 0., 0., 0., 0., 0., 0., 0., 0., 0., 0., 0., 0., 0., 0., 0., 0., 0.,\n",
       "        0., 0., 0., 0., 0., 0., 0., 0., 0., 0., 0., 0., 0., 0., 0., 0., 0., 0.,\n",
       "        0., 0., 0., 0., 0., 0., 0., 0., 0., 0., 0., 0., 0., 0., 0., 0., 0., 0.,\n",
       "        0., 0., 0., 0., 0., 0., 0., 0., 0., 0., 0., 0., 0., 0., 0., 0., 0., 0.,\n",
       "        0., 0., 0., 0., 0., 0., 0., 0., 0., 0., 0., 0., 0., 0., 0., 0., 0., 0.,\n",
       "        0., 0., 0., 0., 0., 0., 0., 0., 0., 0., 0., 0., 0., 0., 0., 0., 0., 0.,\n",
       "        0., 0.])"
      ]
     },
     "execution_count": 41,
     "metadata": {},
     "output_type": "execute_result"
    }
   ],
   "source": [
    "masked[:inputs[\"input_ids\"].index(2)] = 1\n",
    "masked"
   ]
  },
  {
   "cell_type": "code",
   "execution_count": 42,
   "metadata": {},
   "outputs": [],
   "source": [
    "mask1 = torch.zeros(10)\n",
    "mask2 = torch.zeros(10)"
   ]
  },
  {
   "cell_type": "code",
   "execution_count": 45,
   "metadata": {},
   "outputs": [
    {
     "data": {
      "text/plain": [
       "torch.Size([2, 10])"
      ]
     },
     "execution_count": 45,
     "metadata": {},
     "output_type": "execute_result"
    }
   ],
   "source": [
    "torch.vstack([mask1, mask2]).shape"
   ]
  },
  {
   "cell_type": "code",
   "execution_count": 13,
   "metadata": {},
   "outputs": [],
   "source": [
    "lines = [\n",
    "\"Apple on October 13, 2020 unveiled the newest high-end flagship iPhones, the iPhone \",\n",
    "\"Apple this year heavily emphasized the 'Pro' aspect of the new iPhone 12 Pro models,\",\n",
    "\"Available in 6.1-inch and 6.7-inch size options, the two new Pro models feature full\",\n",
    "\"The 6.1-inch iPhone 12 Pro has a resolution of 2532 x 1170 with 460 pixels per inch,\",\n",
    "\"Protecting the displays is a new Ceramic Shield cover, which Apple says 'goes beyond\"\n",
    "]"
   ]
  },
  {
   "cell_type": "code",
   "execution_count": 16,
   "metadata": {},
   "outputs": [],
   "source": [
    "from itertools import islice"
   ]
  },
  {
   "cell_type": "code",
   "execution_count": 17,
   "metadata": {},
   "outputs": [
    {
     "name": "stdout",
     "output_type": "stream",
     "text": [
      "(\"1\\trestaurants near me\\tDGB101\\thttps://test.com\\tHow to retreive\\tUse your brain\\tFDGS120\\thttps://no.com\\tDon't do this\\tUse a typewriter\\n\", \"1\\tfun activities\\tDGB101\\thttps://test.com\\tHow to retreive\\tUse your brain\\tFDGS120\\thttps://no.com\\tDon't do this\\tUse a typewriter\\n\")\n",
      "(\"1\\tus\\tDGB101\\thttps://test.com\\tHow to retreive\\tUse your brain\\tFDGS120\\thttps://no.com\\tDon't do this\\tUse a typewriter\\n\", \"1\\thow do i check if i have corona\\tDGB101\\thttps://test.com\\tHow to retreive\\tUse your brain\\tFDGS120\\thttps://no.com\\tDon't do this\\tUse a typewriter\\n\")\n",
      "(\"1\\tinformation retrieval\\tDGB101\\thttps://test.com\\tHow to retreive\\tUse your brain\\tFDGS120\\thttps://no.com\\tDon't do this\\tUse a typewriter\\n\", \"1\\tinformation retrieval\\tDGB101\\thttps://test.com\\tHow to retreive\\tUse your brain\\tFDGS120\\thttps://no.com\\tDon't do this\\tUse a typewriter\\n\")\n",
      "(\"1\\tinformation retrieval\\tDGB101\\thttps://test.com\\tHow to retreive\\tUse your brain\\tFDGS120\\thttps://no.com\\tDon't do this\\tUse a typewriter\\n\", \"1\\tinformation retrieval\\tDGB101\\thttps://test.com\\tHow to retreive\\tUse your brain\\tFDGS120\\thttps://no.com\\tDon't do this\\tUse a typewriter\\n\")\n",
      "(\"1\\tinformation retrieval\\tDGB101\\thttps://test.com\\tHow to retreive\\tUse your brain\\tFDGS120\\thttps://no.com\\tDon't do this\\tUse a typewriter\\n\", \"1\\tinformation retrieval\\tDGB101\\thttps://test.com\\tHow to retreive\\tUse your brain\\tFDGS120\\thttps://no.com\\tDon't do this\\tUse a typewriter\")\n"
     ]
    }
   ],
   "source": [
    "with open(\"./data/train_triples.tsv\") as t:\n",
    "    for n_lines in iter(lambda: tuple(islice(t, 2)), ()):\n",
    "        print(n_lines)"
   ]
  },
  {
   "cell_type": "code",
   "execution_count": 20,
   "metadata": {},
   "outputs": [
    {
     "data": {
      "text/plain": [
       "tensor([1.])"
      ]
     },
     "execution_count": 20,
     "metadata": {},
     "output_type": "execute_result"
    }
   ],
   "source": [
    "torch.ones(1)"
   ]
  },
  {
   "cell_type": "code",
   "execution_count": 21,
   "metadata": {},
   "outputs": [],
   "source": [
    "scores = torch.rand(2)"
   ]
  },
  {
   "cell_type": "code",
   "execution_count": 22,
   "metadata": {},
   "outputs": [
    {
     "data": {
      "text/plain": [
       "tensor(0.1437)"
      ]
     },
     "execution_count": 22,
     "metadata": {},
     "output_type": "execute_result"
    }
   ],
   "source": [
    "scores[1]"
   ]
  },
  {
   "cell_type": "code",
   "execution_count": null,
   "metadata": {},
   "outputs": [],
   "source": []
  }
 ],
 "metadata": {
  "kernelspec": {
   "display_name": "Python 3",
   "language": "python",
   "name": "python3"
  },
  "language_info": {
   "codemirror_mode": {
    "name": "ipython",
    "version": 3
   },
   "file_extension": ".py",
   "mimetype": "text/x-python",
   "name": "python",
   "nbconvert_exporter": "python",
   "pygments_lexer": "ipython3",
   "version": "3.7.9"
  },
  "toc": {
   "base_numbering": 1,
   "nav_menu": {},
   "number_sections": true,
   "sideBar": true,
   "skip_h1_title": false,
   "title_cell": "Table of Contents",
   "title_sidebar": "Contents",
   "toc_cell": false,
   "toc_position": {},
   "toc_section_display": true,
   "toc_window_display": false
  },
  "varInspector": {
   "cols": {
    "lenName": 16,
    "lenType": 16,
    "lenVar": 40
   },
   "kernels_config": {
    "python": {
     "delete_cmd_postfix": "",
     "delete_cmd_prefix": "del ",
     "library": "var_list.py",
     "varRefreshCmd": "print(var_dic_list())"
    },
    "r": {
     "delete_cmd_postfix": ") ",
     "delete_cmd_prefix": "rm(",
     "library": "var_list.r",
     "varRefreshCmd": "cat(var_dic_list()) "
    }
   },
   "types_to_exclude": [
    "module",
    "function",
    "builtin_function_or_method",
    "instance",
    "_Feature"
   ],
   "window_display": false
  }
 },
 "nbformat": 4,
 "nbformat_minor": 4
}
