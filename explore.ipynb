{
 "cells": [
  {
   "cell_type": "code",
   "execution_count": 1,
   "metadata": {},
   "outputs": [],
   "source": [
    "import torch\n",
    "from transformers import LongformerConfig, LongformerModel, LongformerTokenizer"
   ]
  },
  {
   "cell_type": "code",
   "execution_count": 4,
   "metadata": {},
   "outputs": [],
   "source": [
    "from torch.utils.data import TensorDataset, DataLoader"
   ]
  },
  {
   "cell_type": "code",
   "execution_count": 5,
   "metadata": {},
   "outputs": [],
   "source": [
    "input_ids, attention_mask, labels = torch.rand(100, 50), torch.rand(100, 50), torch.rand(100,)"
   ]
  },
  {
   "cell_type": "code",
   "execution_count": 7,
   "metadata": {},
   "outputs": [],
   "source": [
    "dataset = TensorDataset(input_ids, attention_mask, labels)"
   ]
  },
  {
   "cell_type": "code",
   "execution_count": 9,
   "metadata": {},
   "outputs": [],
   "source": [
    "loader = DataLoader(dataset, batch_size=16, shuffle=True)"
   ]
  },
  {
   "cell_type": "code",
   "execution_count": 12,
   "metadata": {},
   "outputs": [
    {
     "name": "stdout",
     "output_type": "stream",
     "text": [
      "3\n",
      "[torch.Size([16, 50]), torch.Size([16, 50]), torch.Size([16])]\n"
     ]
    }
   ],
   "source": [
    "for batch in loader:\n",
    "    print(len(batch))\n",
    "    print([b.size() for b in batch])\n",
    "    break"
   ]
  },
  {
   "cell_type": "code",
   "execution_count": 2,
   "metadata": {},
   "outputs": [],
   "source": [
    "config = LongformerConfig.from_pretrained(\"allenai/longformer-base-4096\")\n",
    "tokenizer = LongformerTokenizer.from_pretrained(\"allenai/longformer-base-4096\")\n",
    "model = LongformerModel.from_pretrained(\"allenai/longformer-base-4096\")"
   ]
  },
  {
   "cell_type": "code",
   "execution_count": 21,
   "metadata": {},
   "outputs": [
    {
     "name": "stdout",
     "output_type": "stream",
     "text": [
      "Tokenized size 1146\n",
      "Num of characters 5231\n"
     ]
    }
   ],
   "source": [
    "document = \"\"\"\n",
    "Apple on October 13, 2020 unveiled the newest high-end flagship iPhones, the iPhone 12 Pro and iPhone 12 Pro Max, which are being sold alongside the more affordably priced iPhone 12 and iPhone 12 mini.\n",
    "Apple this year heavily emphasized the \"Pro\" aspect of the new iPhone 12 Pro models, suggesting the more expensive iPhones \"push the boundaries of innovation\" for the people who \"want the absolute most out of their iPhones.\"\n",
    "Available in 6.1-inch and 6.7-inch size options, the two new Pro models feature full-screen Super Retina XDR displays that are edge-to-edge with the exception of the Face ID notch.\n",
    "The 6.1-inch iPhone 12 Pro has a resolution of 2532 x 1170 with 460 pixels per inch, while the 6.7-inch iPhone 12 Pro Max has a resolution of 2778 x 1284 and a 458 ppi. The displays offer HDR support with 1200 nits peak brightness, Wide Color, Haptic Touch, and True Tone, all features that have been introduced over the years.\n",
    "Protecting the displays is a new Ceramic Shield cover, which Apple says \"goes beyond glass\" and is tougher than any smartphone glass. It's infused with nano-ceramic crystals and offers 4x better drop performance.\n",
    "The iPhone 12 Pro and Pro Max have an entirely new look that's similar to the design of the iPad Pro with flat edges instead of the rounded edges used in prior models. There's a precision-milled matte glass back surrounded by a stainless steel band.\n",
    "Color options include graphite, silver, gold, and pacific blue, with the blue shade replacing the midnight green used last year. The iPhone 12 Pro and Pro Max offer IP68 water and dust resistance and can hold up to submersion in 6 meters of water for up to 30 minutes.\n",
    "The new iPhone 12 models are the first to feature 5G connectivity for faster downloads and uploads, better quality video streaming, improved gaming, and higher-definition 1080p FaceTime calls. To preserve battery life when using 5G, a Smart Data Mode reverts to an LTE connection when 5G speeds aren't necessary.\n",
    "5G coverage is available worldwide, but only iPhone 12 devices sold in the United States support mmWave 5G, which is the fastest 5G technology available. iPhone 12 models sold in other countries are limited to the slower but more widely available Sub-6GHz 5G connectivity. In the U.S., 5G speeds can be as high as 4Gbps, even in highly populated areas.\n",
    "Gigabit LTE is supported when 5G isn't available, as is WiFi 6 and Bluetooth 5.0. Like the iPhone 11 models, the iPhone 12 Pro models include a U1 Ultra Wideband chip for spatial awareness and interactivity with other devices that include the U1 feature such as the HomePod mini.\n",
    "There's a new A14 chip inside the iPhone 12 Pro models, and it is the first chip in the smartphone industry built on a 5-nanometer process for performance and efficiency improvements. Apple says the 6-core CPU and 4-core GPU in the A14 are 50 percent faster than the fastest competing smartphone chips. The A14 chip includes a 16-core Neural Engine that offers an 80 percent increase in performance for machine learning tasks.\n",
    "For the most part, the iPhone 12 Pro and iPhone 12 Pro Max offer identical specs, but the exception is the camera, where there are some notable differences. The iPhone 12 Pro is equipped with a new seven-element Wide camera with an f/1.6 aperture, which brings 27 percent improved low-light performance for photos and videos.\n",
    "There's also an Ultra Wide camera with a 120-degree field of view and a 52mm telephoto lens that offers 4x optical zoom.\n",
    "The iPhone 12 Pro Max also has a seven-element Wide camera with an f/1.6 aperture, but it has a 47 percent larger sensor for an 87 percent improvement in low light. It has the same Ultra Wide camera and a 65mm telephoto lens that enables 5x optical zoom.\n",
    "While the iPhone 12 Pro offers dual optical image stabilization, the iPhone 12 Pro Max supports sensor-shift optical image stabilization for the Wide lens that stabilizes the sensor instead of the lens itself. Sensor-shift stabilization has previously been limited to DSLRs, and it offers better than ever stabilization for photos and videos.\n",
    "For both models, A14 chip powers a new image signal processor and computational photography capabilities that weren't possible before. Night mode is now available for the front-facing TrueDepth camera and the Ultra Wide camera, and Deep Fusion is available for all cameras. A new Smart HDR 3 feature brings more true-to-life images.\n",
    "There's also support for ProRAW, a feature that combines Apple's image processing and computational photography with the versatility of the RAW file format, offering full control over color, detail, and dynamic range.\n",
    "As for video, the iPhone 12 Pro models support 4K 60fps video and HDR video recording with Dolby Vision at up to 60 frames per second, and better video stabilization. A Night mode time-lapse video option allows for impressive night time videos when a tripod is used.\n",
    "The iPhone 12 Pro and Pro Max are equipped with a LiDAR Scanner that measures light distance and pixel depth of a scene to map out the area around the iPhone. It allows for more realistic AR experiences and it improves autofocus by 6x in low-light scenes for improved accuracy. The LiDAR Scanner enables Night mode portraits.\n",
    "\"\"\"\n",
    "tokenized = tokenizer.tokenize(document)\n",
    "print(\"Tokenized size\", len(tokenized))\n",
    "print(\"Num of characters\", len(document))    \n",
    "      "
   ]
  },
  {
   "cell_type": "code",
   "execution_count": 24,
   "metadata": {},
   "outputs": [
    {
     "data": {
      "text/plain": [
       "torch.Size([1, 1148])"
      ]
     },
     "execution_count": 24,
     "metadata": {},
     "output_type": "execute_result"
    }
   ],
   "source": [
    "sample = tokenizer.encode(document, return_tensors=\"pt\")\n",
    "sample.size()"
   ]
  },
  {
   "cell_type": "code",
   "execution_count": 35,
   "metadata": {},
   "outputs": [],
   "source": [
    "# Forward pass, check the return\n",
    "attention_mask = torch.ones(sample.shape, dtype=torch.long)\n",
    "global_attention_mask = torch.zeros(sample.shape, dtype=torch.long)\n",
    "output = model(sample, attention_mask=attention_mask, global_attention_mask=global_attention_mask, return_dict=True)"
   ]
  },
  {
   "cell_type": "code",
   "execution_count": 36,
   "metadata": {},
   "outputs": [
    {
     "data": {
      "text/plain": [
       "odict_keys(['last_hidden_state', 'pooler_output'])"
      ]
     },
     "execution_count": 36,
     "metadata": {},
     "output_type": "execute_result"
    }
   ],
   "source": [
    "output.keys()"
   ]
  },
  {
   "cell_type": "code",
   "execution_count": 40,
   "metadata": {},
   "outputs": [
    {
     "data": {
      "text/plain": [
       "torch.Size([1, 1148, 768])"
      ]
     },
     "execution_count": 40,
     "metadata": {},
     "output_type": "execute_result"
    }
   ],
   "source": [
    "output.last_hidden_state.shape"
   ]
  },
  {
   "cell_type": "code",
   "execution_count": 46,
   "metadata": {},
   "outputs": [],
   "source": [
    "query = \"iphone 12 technical specs\"\n",
    "small_document = \"Apple on October 13, 2020 unveiled the newest high-end flagship iPhones, the iPhone 12 Pro and iPhone 12 Pro Max, which are being sold alongside the more affordably priced iPhone 12 and iPhone 12 mini.\"\n",
    "\n",
    "encoded = tokenizer.encode(query, small_document)\n",
    "decoded = tokenizer.convert_ids_to_tokens(encoded)"
   ]
  },
  {
   "cell_type": "code",
   "execution_count": null,
   "metadata": {},
   "outputs": [],
   "source": [
    "# Fine-tune"
   ]
  }
 ],
 "metadata": {
  "kernelspec": {
   "display_name": "Python 3",
   "language": "python",
   "name": "python3"
  },
  "language_info": {
   "codemirror_mode": {
    "name": "ipython",
    "version": 3
   },
   "file_extension": ".py",
   "mimetype": "text/x-python",
   "name": "python",
   "nbconvert_exporter": "python",
   "pygments_lexer": "ipython3",
   "version": "3.7.9"
  },
  "toc": {
   "base_numbering": 1,
   "nav_menu": {},
   "number_sections": true,
   "sideBar": true,
   "skip_h1_title": false,
   "title_cell": "Table of Contents",
   "title_sidebar": "Contents",
   "toc_cell": false,
   "toc_position": {},
   "toc_section_display": true,
   "toc_window_display": false
  },
  "varInspector": {
   "cols": {
    "lenName": 16,
    "lenType": 16,
    "lenVar": 40
   },
   "kernels_config": {
    "python": {
     "delete_cmd_postfix": "",
     "delete_cmd_prefix": "del ",
     "library": "var_list.py",
     "varRefreshCmd": "print(var_dic_list())"
    },
    "r": {
     "delete_cmd_postfix": ") ",
     "delete_cmd_prefix": "rm(",
     "library": "var_list.r",
     "varRefreshCmd": "cat(var_dic_list()) "
    }
   },
   "types_to_exclude": [
    "module",
    "function",
    "builtin_function_or_method",
    "instance",
    "_Feature"
   ],
   "window_display": false
  }
 },
 "nbformat": 4,
 "nbformat_minor": 4
}
